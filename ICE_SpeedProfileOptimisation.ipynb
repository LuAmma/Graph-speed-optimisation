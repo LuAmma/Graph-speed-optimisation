{
 "cells": [
  {
   "cell_type": "markdown",
   "metadata": {},
   "source": [
    "Jupyter is a computing environment supporting several interpreted programming languages, cell-by-cell execution, and inline output, including rich tables and charts. It is most often paired with python. It is ideal for quick, iterative data exploration and visualization. All tools and libraries used in this short demonstration are free and open-source.\n",
    "\n",
    "The complete code can be run by pressing the following button:\n",
    "\n",
    "<img src=\"img/RunAll.png\" width=800/>\n",
    "\n",
    "In case the contents of a single cell are changed later, the cell alone can be rerun with the following button. Remeber to also rerun cells whose contents are based on what was just changed. (So perhaps even rerun everything)\n",
    "\n",
    "<img src=\"img/RunCell.png\" width=800/>"
   ]
  },
  {
   "cell_type": "markdown",
   "metadata": {},
   "source": [
    "# Simulation\n",
    "First we import a few libaries"
   ]
  },
  {
   "cell_type": "code",
   "execution_count": 1,
   "metadata": {},
   "outputs": [],
   "source": [
    "import networkx as nx\n",
    "import matplotlib.pyplot as plt\n",
    "import matplotlib.colors as col\n",
    "import pandas as pd\n",
    "import math\n",
    "import numpy as np\n",
    "import scipy.integrate as integrate"
   ]
  },
  {
   "cell_type": "markdown",
   "metadata": {},
   "source": [
    "Then we define how strongly the desire to drive fast and the desire to drive efficient are wighted in our optimization. Only the other will be optimized if either is 0."
   ]
  },
  {
   "cell_type": "code",
   "execution_count": 2,
   "metadata": {},
   "outputs": [],
   "source": [
    "factor_time = 0.2\n",
    "factor_efficiency = 0.8"
   ]
  },
  {
   "cell_type": "code",
   "execution_count": 3,
   "metadata": {},
   "outputs": [],
   "source": [
    "G = nx.DiGraph()\n",
    "G.add_node(\"x0_k0\",v=0) #add start node\n",
    "coordinate_set_dict = {\"x0_k0\": (0,0)}"
   ]
  },
  {
   "cell_type": "markdown",
   "metadata": {},
   "source": [
    "Now to the heart of the simulation: the assumptions taken for modelling. The following list defines the constants that we use to model the car."
   ]
  },
  {
   "cell_type": "code",
   "execution_count": 4,
   "metadata": {},
   "outputs": [],
   "source": [
    "g = 9.81                    # [m/s^2] earth gravity constant\n",
    "\n",
    "\n",
    "# Mechanical model of the car with the following constants:\n",
    "driver_mass = 71            # [kg]   mass of the driver\n",
    "car_mass = 123 + driver_mass# [kg]   weight of car and driver\n",
    "diameter_tire = 0.4         # [m]    diameter of the tire\n",
    "coeff_roll_res = 0.02       # [1]    Unitless roll resistance coefficient, the real value is possibly lower\n",
    "gear_ratio = 5              # [1]    Unitless ratio of how many rotations the motor has to do for one roation of the wheel\n",
    "coeff_aero_drag = 0.2       # [1]    Unitless aerodynamic Drag coefficient\n",
    "A_aero = 0.8                # [m^2]  Aerodynamic front surface of the car\n",
    "rho_air = 1.225             # [kg/m^3] Density of air at standard conditions \n",
    "\n",
    "\n",
    "# Engine and Transmission parameters to model an ICE engine\n",
    "torque_max = 3.6            # [Nm] Engine maximum torque\n",
    "Eta_trans = 0.95            # Transmission brake efficiency\n",
    "Eta = 0.38                  # Engine brake fuel efficiency\n",
    "\n",
    "Qlhv_ethanol = 26900000     # [J/kg] Lower heating value of ethanol\n",
    "Qlhv_gasoline = 42900000    # [J/kg] Lower heating value of Shell Unleaded 95-octane\n",
    "rho_ethanol  = 0.789        # [kg/l] Density of Ethanol            @ 20 degrees C\n",
    "rho_gasoline = 0.765        # [kg/l] Density of 95-octane Gasoline @ 15 degrees C\n"
   ]
  },
  {
   "cell_type": "markdown",
   "metadata": {},
   "source": [
    "We now define the states states car is allowed to be in. For this we define a track profile using waypoints that we then interpolate. Change the waypoints in order to change the Track"
   ]
  },
  {
   "cell_type": "code",
   "execution_count": 5,
   "metadata": {},
   "outputs": [
    {
     "name": "stdout",
     "output_type": "stream",
     "text": [
      "       s  vmax       vmin  m_above_sea\n",
      "0      0   0.0   0.000000   100.000000\n",
      "1     50  30.0   5.000000   101.000000\n",
      "2    100  50.0  10.000000   101.300000\n",
      "3    150  50.0  11.250000   101.262500\n",
      "4    200  50.0  12.500000   101.225000\n",
      "5    250  50.0  13.750000   101.187500\n",
      "6    300  50.0  15.000000   101.150000\n",
      "7    350  50.0  16.250000   101.112500\n",
      "8    400  50.0  17.500000   101.075000\n",
      "9    450  50.0  18.750000   101.037500\n",
      "10   500  50.0  20.000000   101.000000\n",
      "11   550  50.0  20.000000   101.500000\n",
      "12   600  50.0  20.000000   102.000000\n",
      "13   650  50.0  20.000000   102.333333\n",
      "14   700  50.0  20.000000   102.666667\n",
      "15   750  50.0  20.000000   103.000000\n",
      "16   800  50.0  20.000000   101.500000\n",
      "17   850  50.0  20.000000   100.000000\n",
      "18   900  50.0  18.664887   100.000000\n",
      "19   950  50.0  17.329773   100.000000\n",
      "20  1000  50.0  15.994660   100.000000\n",
      "21  1050  50.0  14.659546   100.000000\n",
      "22  1100  50.0  13.324433   100.000000\n",
      "23  1150  50.0  11.989319   100.000000\n",
      "24  1200  50.0  10.654206   100.000000\n",
      "25  1250  50.0   9.319092   100.000000\n",
      "26  1300  50.0   7.983979   100.000000\n",
      "27  1350  50.0   6.648865   100.000000\n",
      "28  1400  50.0   5.313752   100.000000\n",
      "29  1450  50.0   3.978638   100.000000\n",
      "30  1500  50.0   2.643525   100.000000\n",
      "31  1550  50.0   1.308411   100.000000\n",
      "32  1600   0.0   0.000000   100.000000\n"
     ]
    }
   ],
   "source": [
    "section_length = 50         # [m]     distance resolution\n",
    "velocity_spacing = 2        # [km/h]  velocity resolution of the simulation\n",
    "max_acceleration = 4        # [1]     Unitless integer of how many velocity_spacing steps the car can accelerate or deaccelerte over one section_length\n",
    "\n",
    "# Define the track profile using waypoints \n",
    "# Between waypoints missing the values are obtained with linear interpolation\n",
    "waypoints = [\n",
    "    {\"s\": 0,    \"vmax\": 0,  \"vmin\": 0,  \"m_above_sea\": 100}, # waypoint at start of track needed\n",
    "    {\"s\": 50,   \"vmax\": 30, \"vmin\": 5, \"m_above_sea\": 101},\n",
    "    {\"s\": 100,  \"vmax\": 50, \"vmin\": 10, \"m_above_sea\": 101.3},\n",
    "    {\"s\": 500,  \"vmax\": 50, \"vmin\": 20, \"m_above_sea\": 101},\n",
    "    {\"s\": 600,  \"vmax\": 50, \"vmin\": 20, \"m_above_sea\": 102},\n",
    "    {\"s\": 750,  \"vmax\": 50, \"vmin\": 20, \"m_above_sea\": 103},\n",
    "    {\"s\": 850,  \"vmax\": 50, \"vmin\": 20, \"m_above_sea\": 100},\n",
    "    {\"s\": 1599, \"vmax\": 50, \"vmin\": 0,  \"m_above_sea\": 100}, # allow speed to drop again before the end\n",
    "    {\"s\": 1600, \"vmax\": 0,  \"vmin\": 0 , \"m_above_sea\": 100}  # waypoint at end of track needed\n",
    "]\n",
    "\n",
    "# Create the full track profile out of the waypoints above\n",
    "waypoint_df = pd.DataFrame(waypoints).set_index(\"s\").sort_index()\n",
    "s_range = np.arange(waypoint_df.index.min(), waypoint_df.index.max() + 1, section_length)\n",
    "config = waypoint_df.reindex(waypoint_df.index.union(s_range)).sort_index().interpolate(\"index\").loc[s_range]\n",
    "config = config.reset_index()\n",
    "\n",
    "\n",
    "x_max = len(config.index)-1  # index of the end of the last section\n",
    "\n",
    "# Helper fuction to calculate the Gradient angle inside section x-1\n",
    "def get_gradient_angle(x):\n",
    "    return math.atan( (config.loc[x, \"m_above_sea\"]-config.loc[x-1, \"m_above_sea\"] ) / section_length)   #in rad\n",
    "\n",
    "print(config)"
   ]
  },
  {
   "cell_type": "markdown",
   "metadata": {},
   "source": [
    "Next we define a function that calculates the work required within a section. For the model we assume the acceleration is constant within a section. We use the following formulas to calculate the acceleration constant $a$ and the total time for the section $T$:\n",
    "$$\n",
    "a = \\frac{v_2^2 - v_1^2}{2\\cdot l}\n",
    "$$\n",
    "$$\n",
    "T = \\frac{v_2-v_1}{a}\n",
    "$$\n",
    "\n",
    "Where $v_1$ and $v_2$ are the speed at the start and end of the section, and $l$ is the length of the section.\n",
    "\n",
    "This gives a model for $v(t)$, the velocity depending on time.\n",
    "\n",
    "Starting from this we use physical formulas to derive additional quantities, such as forces acting on the car at time t.\n",
    "The goal of deriving additional formulas is calculating the Engine Power at time t.\n",
    "Finally the total Energy is found by integrating the Power over time:\n",
    "$$\n",
    "E = \\int{Pdt}\n",
    "$$\n"
   ]
  },
  {
   "cell_type": "code",
   "execution_count": 6,
   "metadata": {},
   "outputs": [],
   "source": [
    "class ImpossibleState(Exception):\n",
    "    pass\n",
    "\n",
    "class PhysicalCarModel:\n",
    "    def predict(self,gradient_angle, v1, v2, section_length):   \n",
    "        \n",
    "        accel = (v2**2 - v1**2) / section_length / 2. # [m/s^2] acceleration constant\n",
    "        \n",
    "        if math.isclose(accel, 0.):\n",
    "            time = section_length/v2                  # When not acclerated speed stay constant\n",
    "        else:\n",
    "            time = (v2 - v1) / accel                  # time for the section\n",
    "    \n",
    "        def velocity(t):\n",
    "            return v1 + accel*t\n",
    "        \n",
    "        def total_force(t):\n",
    "            # Rolling resistance while going up (or down) a slope\n",
    "            f_roll_res = car_mass * g * math.cos(gradient_angle) * coeff_roll_res\n",
    "            \n",
    "            # Force needed for going up (or down) a slope\n",
    "            f_slope = car_mass * g * math.sin(gradient_angle)\n",
    "            \n",
    "            # Forces needed to accelerate the car\n",
    "            f_accel = accel * car_mass\n",
    "            \n",
    "            # Aerodynamic forces depend on time\n",
    "            f_aero_drag = 0.5 * rho_air * A_aero * coeff_aero_drag * velocity(t)**2\n",
    "            return f_roll_res + f_slope + f_accel + f_aero_drag\n",
    "        \n",
    "        def total_power_usage(t):\n",
    "            return total_force(t)*velocity(t)         \n",
    "    \n",
    "        def engine_rotation_speed(t):   # [rad/s] Motor rotation speed\n",
    "            return velocity(t) * gear_ratio / (diameter_tire/2) \n",
    "        \n",
    "        def engine_torque(t):           # [Nm]    Motor torque\n",
    "            torque = total_power_usage(t)/engine_rotation_speed(t)\n",
    "            if torque > torque_max:     # Don't allow torque to be too high\n",
    "                raise ImpossibleState(\"Torque exceeds the maximum allowed.\")\n",
    "            return torque\n",
    "    \n",
    "        def engine_current(t):          # [A]     Current\n",
    "            return (engine_torque(t)+torque_loss) / torque_constant\n",
    "    \n",
    "        def engine_voltage(t):          # [V]     Voltage\n",
    "            \n",
    "            return (engine_rotation_speed(t) * factor_rotations_per_minute / velocity_constant) + (anchor_resistance * engine_torque(t))\n",
    "    \n",
    "        def engine_power(t):\n",
    "            engine_power = engine_torque(t) * engine_rotation_speed(t) * 1/Eta * 1/Eta_trans\n",
    "            if total_power_usage(t) < 0: # Shut off engine if no power needed\n",
    "                engine_power = 0\n",
    "            return engine_power\n",
    "            \n",
    "        Energy_Motor, _ = integrate.quad(engine_power, 0, time)\n",
    "        return Energy_Motor, time"
   ]
  },
  {
   "cell_type": "markdown",
   "metadata": {},
   "source": [
    "The next step is building a Graph.\n",
    "\n",
    "Each node represents a specific combination of speed and distance.\n",
    "There could be a node (300 m, 45 km/h) representing the state \"the car is driving with 45km/h when he is 300 meters away the start\"\n",
    "\n",
    "Edges reprecent possible transitions between the states. For the state (300 m, 45 km/h) from above, it is possible to accelerate a little and reach state (350 m, 55 km/h) by accelerating or state (350 m, 15 km/h) by breaking.\n",
    "\n",
    "The edge weight represents the cost to change from one state to another, weighted by the factors set above. While accelerating heavily would use a lot of fuel as such have a high effiecency-cost breaking would lose a lot of speed and as such have a high time cost. As such the lowest cost is probably somewhere in between breaking and accelerating."
   ]
  },
  {
   "cell_type": "code",
   "execution_count": 7,
   "metadata": {
    "editable": true,
    "slideshow": {
     "slide_type": ""
    },
    "tags": []
   },
   "outputs": [],
   "source": [
    "# Use physical formulas to simulate the behaviour of the car\n",
    "model = PhysicalCarModel()\n",
    "\n",
    "for x in range (1, x_max+1):   \n",
    "    # change vmin and vmax from the track config to discrete boundaries\n",
    "    k_min = int(np.ceil(config.loc[x, \"vmin\"] / velocity_spacing))\n",
    "    k_max = int(np.floor(config.loc[x, \"vmax\"] / velocity_spacing))\n",
    "\n",
    "    for k in range(k_min, k_max + 1):\n",
    "        v = k * velocity_spacing\n",
    "        node_name = f\"x{x}_k{k}\"\n",
    "        G.add_node((node_name), v=v)\n",
    "        coordinate_set_dict[node_name] = (x*section_length, v) # add to dictionary to later print it at correct position\n",
    "        \n",
    "        for kold in range(k-max_acceleration,k+max_acceleration+1):\n",
    "            if G.has_node(f\"x{x-1}_k{kold}\"):\n",
    "                vold = kold*velocity_spacing\n",
    "\n",
    "                gradient_angle = get_gradient_angle(x)\n",
    "                vold_mps       = vold / 3.6\n",
    "                v_mps          = v / 3.6            \n",
    "\n",
    "                try:\n",
    "                    # Use the Physical Car Model to calculate the Energy and time needed to pass the section\n",
    "                    E_Engine, time = model.predict(gradient_angle, vold_mps, v_mps, section_length)\n",
    "                except ImpossibleState:\n",
    "                    # Transition not possible\n",
    "                    continue  # Skip this iteration\n",
    "\n",
    "                # As adding up speed and fuel usage is comparing apples and oranges, we have to prescale what we calculated \n",
    "                # so that the speed and efficiency factors have the effect we hope for.\n",
    "                cost_econ = E_Engine / 6000\n",
    "                cost_speed = time / 10\n",
    "\n",
    "                edge_weight = factor_time*cost_speed + factor_efficiency*cost_econ\n",
    "                G.add_edge(f\"x{x-1}_k{kold}\", node_name, weight=edge_weight, time=time, energy=E_Engine)\n",
    "\n"
   ]
  },
  {
   "cell_type": "markdown",
   "metadata": {},
   "source": [
    "We're now ready to find the best speed profile. For this we use Dijkstras algorithm for the shortest path. In this context the shortest path is the series of states that brings us from start to finish with the lowest combined cost of time and efficiency according to the factors given.\n",
    "\n",
    "We can then calculate how much energy was used in total."
   ]
  },
  {
   "cell_type": "code",
   "execution_count": 8,
   "metadata": {},
   "outputs": [
    {
     "data": {
      "text/plain": [
       "'\\nfor u, v, data in G.edges(data=True):\\n    print(f\"Edge from {u} to {v}: time = {data.get(\\'time\\')}, energy = {data.get(\\'energy\\')}\")\\n'"
      ]
     },
     "execution_count": 8,
     "metadata": {},
     "output_type": "execute_result"
    }
   ],
   "source": [
    "\"\"\"\n",
    "for u, v, data in G.edges(data=True):\n",
    "    print(f\"Edge from {u} to {v}: time = {data.get('time')}, energy = {data.get('energy')}\")\n",
    "\"\"\""
   ]
  },
  {
   "cell_type": "code",
   "execution_count": 9,
   "metadata": {},
   "outputs": [
    {
     "name": "stdout",
     "output_type": "stream",
     "text": [
      "Best Profile:     Speed optimal  distance\n",
      "0               0         0\n",
      "1               8        50\n",
      "2              16       100\n",
      "3              24       150\n",
      "4              24       200\n",
      "5              24       250\n",
      "6              24       300\n",
      "7              24       350\n",
      "8              24       400\n",
      "9              24       450\n",
      "10             24       500\n",
      "11             24       550\n",
      "12             24       600\n",
      "13             24       650\n",
      "14             24       700\n",
      "15             20       750\n",
      "16             24       800\n",
      "17             26       850\n",
      "18             22       900\n",
      "19             24       950\n",
      "20             24      1000\n",
      "21             24      1050\n",
      "22             24      1100\n",
      "23             24      1150\n",
      "24             24      1200\n",
      "25             24      1250\n",
      "26             24      1300\n",
      "27             24      1350\n",
      "28             24      1400\n",
      "29             22      1450\n",
      "30             16      1500\n",
      "31              8      1550\n",
      "32              0      1600\n",
      "Total time (seconds): 335.18949448720616\n",
      "Total energy (joules): 185384.33346661815\n",
      "Total ethanol (milliliters): 8.734614587502797\n",
      "Total gasoline (milliliters): 5.648775339111115\n"
     ]
    }
   ],
   "source": [
    "x_end = len(config.index)-1\n",
    "k_end = int(np.ceil(config.loc[len(config.index)-1][\"vmin\"] / velocity_spacing))\n",
    "\n",
    "nodelist = nx.dijkstra_path(G, \"x0_k0\",f\"x{x_end}_k{k_end}\")\n",
    "\n",
    "outputlist = []\n",
    "for i in range(len(config.index)):\n",
    "     outputlist.append(G.nodes[nodelist[i]][\"v\"])\n",
    "\n",
    "output = pd.DataFrame(outputlist)\n",
    "output.rename(columns={0:\"Speed optimal\"}, inplace = True)\n",
    "output['distance'] = output.index * section_length\n",
    "print(\"Best Profile:\", output)\n",
    "\n",
    "\n",
    "total_time = 0\n",
    "for u, v in zip(nodelist[:-1], nodelist[1:]):\n",
    "    total_time += G.edges[u, v].get(\"time\", 0)\n",
    "print(\"Total time (seconds):\", total_time)\n",
    "\n",
    "\n",
    "total_energy = 0\n",
    "for u, v in zip(nodelist[:-1], nodelist[1:]):\n",
    "    total_energy += G.edges[u, v].get(\"energy\", 0)\n",
    "\n",
    "consumption_ethanol  = total_energy / Qlhv_ethanol * 1/(rho_ethanol) * 1000 #Millilitres of Ethanol\n",
    "consumption_gasoline = total_energy / Qlhv_gasoline * 1/(rho_gasoline) * 1000 #Millilitres of gasoline\n",
    "print(\"Total energy (joules):\", total_energy)\n",
    "print(\"Total ethanol (milliliters):\", consumption_ethanol)\n",
    "print(\"Total gasoline (milliliters):\", consumption_gasoline)"
   ]
  },
  {
   "cell_type": "markdown",
   "metadata": {},
   "source": [
    "Finally we can plot the result we came up with. The blue points show the nodes of the Graph we created, the blue line the final optimal path we came up with.\n"
   ]
  },
  {
   "cell_type": "code",
   "execution_count": null,
   "metadata": {},
   "outputs": [],
   "source": [
    "\"\"\"\n",
    "matrix = nx.to_pandas_adjacency(G)\n",
    "matrix.to_csv(\"AdjMatrix.csv\", sep=',')\n",
    "\"\"\"\n",
    "\n",
    "\n",
    "weight_list = []\n",
    "attributelist = nx.get_edge_attributes(G,'weight')\n",
    "for edge in G.edges:\n",
    "    weight_list.append(attributelist[edge])\n",
    "\n",
    "\n",
    "fig, ax = plt.subplots(figsize=(10, 6))\n",
    "\n",
    "nx.draw(\n",
    "    G,\n",
    "    pos=coordinate_set_dict,\n",
    "    ax=ax,\n",
    "    with_labels=False,\n",
    "    node_color='blue',\n",
    "    edge_color='lightgrey',\n",
    "    node_size=2,\n",
    ")\n",
    "ax.plot(output['distance'], output['Speed optimal'], color='blue', linewidth=2, label='Optimal Speed')\n",
    "ax.set_xlabel('Distance [m]')\n",
    "ax.set_ylabel('Speed [km/h]')\n",
    "ax.set_title('Optimal Path')\n",
    "ax.axis('on')\n",
    "plt.tick_params(axis='both', which='both', bottom=True, left=True, labelbottom=True, labelleft=True)\n",
    "plt.show()\n"
   ]
  },
  {
   "cell_type": "code",
   "execution_count": null,
   "metadata": {},
   "outputs": [],
   "source": []
  }
 ],
 "metadata": {
  "kernelspec": {
   "display_name": "Python 3 (ipykernel)",
   "language": "python",
   "name": "python3"
  },
  "language_info": {
   "codemirror_mode": {
    "name": "ipython",
    "version": 3
   },
   "file_extension": ".py",
   "mimetype": "text/x-python",
   "name": "python",
   "nbconvert_exporter": "python",
   "pygments_lexer": "ipython3",
   "version": "3.13.3"
  }
 },
 "nbformat": 4,
 "nbformat_minor": 4
}
