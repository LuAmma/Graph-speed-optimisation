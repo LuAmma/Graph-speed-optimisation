{
  "metadata": {
    "language_info": {
      "codemirror_mode": {
        "name": "python",
        "version": 3
      },
      "file_extension": ".py",
      "mimetype": "text/x-python",
      "name": "python",
      "nbconvert_exporter": "python",
      "pygments_lexer": "ipython3",
      "version": "3.8"
    },
    "kernelspec": {
      "name": "python",
      "display_name": "Python (Pyodide)",
      "language": "python"
    }
  },
  "nbformat_minor": 4,
  "nbformat": 4,
  "cells": [
    {
      "cell_type": "code",
      "source": "import networkx as nx\nimport matplotlib.pyplot as plt\nimport matplotlib.colors as col\nimport pandas as pd\nimport math",
      "metadata": {},
      "execution_count": null,
      "outputs": []
    },
    {
      "cell_type": "markdown",
      "source": "Define how strongly speed and efficiency are valued",
      "metadata": {}
    },
    {
      "cell_type": "code",
      "source": "factor_speed = 0.2\nfactor_effiecency = 0.8",
      "metadata": {},
      "execution_count": null,
      "outputs": []
    },
    {
      "cell_type": "code",
      "source": "G = nx.DiGraph()\nconfig = pd.read_csv(\"track_config.csv\", sep=';')\nG.add_node(0,v=0)\ncoordinate_set_dict = {0: (0,0)}",
      "metadata": {},
      "execution_count": null,
      "outputs": []
    },
    {
      "cell_type": "markdown",
      "source": "Config everything needed for the calcuation below:",
      "metadata": {}
    },
    {
      "cell_type": "code",
      "source": "section_length = 100\n\ng = 9.81                    #Earth gravity constant\n\ncar_mass = 150              #weight of car and driver\ndiameter_tire = 0.4         #in m\ncoeff_roll_res = 0.02       #maybe a bit lower\ngear_ratio = 5              #How many rotations the motor has to do for one roation of the wheel\n\n\n#Motor model for series wound dc motor\ntorque_constant = 132.6       #mNm/A\nvelocity_constant = 72      #1/(min * V)\nanchor_resistance = 0.1      #Ohm\ntorque_loss = 0.5     #Nm",
      "metadata": {},
      "execution_count": null,
      "outputs": []
    },
    {
      "cell_type": "code",
      "source": "for x in range (1, len(config.index)):\n    for v in range(config.loc[x, \"vmin\"], config.loc[x, \"vmax\"]+1, 5):\n        node_name = config.loc[x, \"s\"]*section_length+v\n        G.add_node((node_name), v=v)\n        coordinate_set_dict[node_name] = (x, v)\n        for vold in range(v-30,v+31,5):\n            if G.has_node(config.loc[x-1, \"s\"]*section_length+vold):\n                vold_mps = vold/3.6\n                v_mps = v/3.6\n\n                time = 2 * section_length / (v_mps + vold_mps)\n\n                gradient_angle = math.tanh( (config.loc[x, \"m above sea\"]-config.loc[x-1, \"m above sea\"] ) / section_length)   #in rad\n                f_roll_res = car_mass * g * math.cos(gradient_angle) * coeff_roll_res\n                f_slope = car_mass * g * math.sin(gradient_angle)\n                f_accel = ((v_mps-vold_mps) / time) * car_mass\n\n                f_total = f_accel + f_slope + f_roll_res\n                E_total = f_total * section_length\n\n                motor_rotation_speed = ((v_mps+vold_mps)/2) * gear_ratio * 30 / ((diameter_tire/2) * math.pi)     #rotation speed in 1/min\n                motor_torque = (f_total * (diameter_tire/2) / gear_ratio)\n\n                motor_current = (motor_torque+torque_loss)*1000/torque_constant\n                motor_voltage = (motor_rotation_speed / velocity_constant) + (anchor_resistance * motor_current)\n                E_Motor = (motor_voltage*motor_current*time)\n\n                #Prescale the factors, in order to see the wished results when factor_speed and factor_effiecency are within 0 and 1\n                if(E_total > 0):\n                    cost_econ = E_Motor / 8000\n                else:\n                    cost_econ = 0\n                cost_speed = time / 36\n                G.add_edge((config.loc[x-1, \"s\"]*section_length+vold), (config.loc[x, \"s\"]*section_length+v), weight=factor_speed*cost_speed+factor_effiecency*cost_econ)\n",
      "metadata": {},
      "execution_count": null,
      "outputs": []
    },
    {
      "cell_type": "code",
      "source": "nodelist = nx.dijkstra_path(G, 0,config.loc[len(config.index)-1][\"s\"]*section_length+config.loc[len(config.index)-1][\"vmin\"])\n\noutputlist = []\nfor i in range(len(config.index)):\n     outputlist.append(G.nodes[nodelist[i]][\"v\"])\n\nprint(outputlist)\n\noutput = pd.DataFrame(outputlist)\noutput.rename(columns={0:\"v optimal\"}, inplace = True)\nprint(output)\noutput.to_csv(\"OptimalesProfilOutput.csv\",sep=';')",
      "metadata": {},
      "execution_count": null,
      "outputs": []
    },
    {
      "cell_type": "markdown",
      "source": "Generate adjacency matrix and graphical picture of the Graph",
      "metadata": {}
    },
    {
      "cell_type": "code",
      "source": "matrix = nx.to_pandas_adjacency(G)\n\nmatrix.to_csv(\"AdjMatrix.csv\", sep=';')\n\n\n#Graph darstellen\n#nx.draw_networkx(G)\n\n\nweight_list = []\nattributelist = nx.get_edge_attributes(G,'weight')\nfor edge in G.edges:\n    weight_list.append(attributelist[edge])\ncmap = col.LinearSegmentedColormap.from_list(\"grey shades\",['red','black','grey','lightgrey'])\n\nnx.draw(G, pos=coordinate_set_dict, with_labels=False, node_color='blue', edge_color=weight_list, edge_cmap=cmap)\n\nplt.show()\n",
      "metadata": {},
      "execution_count": null,
      "outputs": []
    }
  ]
}