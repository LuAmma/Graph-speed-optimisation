{
 "cells": [
  {
   "cell_type": "code",
   "execution_count": null,
   "id": "89424adb-e3de-4a43-9a6c-9e49e9f983a1",
   "metadata": {},
   "outputs": [],
   "source": [
    "import networkx as nx\n",
    "import matplotlib.pyplot as plt\n",
    "import pandas as pd\n",
    "\n",
    "#Change factors for different weighting\n",
    "factor_speed = 0.4\n",
    "factor_effiecency = 0.6\n",
    "\n",
    "config = pd.read_csv(\"track_config.csv\", sep=';')"
   ]
  },
  {
   "cell_type": "code",
   "execution_count": null,
   "id": "6ba6df81-08ac-45f9-adce-72fa18b4be15",
   "metadata": {},
   "outputs": [],
   "source": [
    "#Generating Graph\n",
    "G = nx.DiGraph()\n",
    "\n",
    "G.add_node(0,v=0)\n",
    "\n",
    "coordinate_set_dict = {0: (0,0)}\n",
    "\n",
    "for x in range (1, len(config.index)):\n",
    "    for v in range(config.loc[x, \"vmin\"], config.loc[x, \"vmax\"]+1, 5):\n",
    "        node_name = config.loc[x, \"s\"]*100+v\n",
    "        G.add_node((node_name), v=v)\n",
    "        coordinate_set_dict[node_name] = (x, v)\n",
    "        for vold in range(v-30,v+31,5):\n",
    "            if G.has_node(config.loc[x-1, \"s\"]*100+vold):\n",
    "                cost_econ = (max(v-vold+10,0)/20)*(v/100)\n",
    "                cost_speed = 1-v/120\n",
    "                G.add_edge((config.loc[x-1, \"s\"]*100+vold), (config.loc[x, \"s\"]*100+v), weight=(factor_speed*cost_speed+factor_effiecency*cost_econ))"
   ]
  },
  {
   "cell_type": "code",
   "execution_count": null,
   "id": "1159dc10-b148-4688-87ef-1c676130b1a1",
   "metadata": {},
   "outputs": [],
   "source": [
    "#getting a result\n",
    "nodelist = nx.dijkstra_path(G, 0,config.loc[len(config.index)-1][\"s\"]*100+config.loc[len(config.index)-1][\"vmin\"])\n",
    "\n",
    "outputlist = []\n",
    "for i in range(len(config.index)):\n",
    "     outputlist.append(G.nodes[nodelist[i]][\"v\"])\n",
    "\n",
    "output = pd.DataFrame(outputlist)\n",
    "output.rename(columns={0:\"v optimal\"}, inplace = True)\n",
    "print(output)\n",
    "output.to_csv(\"Output_profile.csv\",sep=';')"
   ]
  },
  {
   "cell_type": "code",
   "execution_count": null,
   "id": "17126e50-9bf9-49d0-ac57-69b73881652f",
   "metadata": {},
   "outputs": [],
   "source": [
    "#Additional possible outputs\n",
    "# Uncomment them by removing the \"\"\" \n",
    "\n",
    "#Generate Adjacency Matrix\n",
    "\"\"\"\n",
    "matrix = nx.to_pandas_adjacency(G)\n",
    "matrix.to_csv(\"AdjMatrix.csv\", sep=';')\n",
    "\"\"\"\n",
    "\n",
    "#Draw Graph\n",
    "\"\"\"\n",
    "nx.draw(G, pos=coordinate_set_dict, with_labels = False, node_color='blue')\n",
    "plt.show()\n",
    "\"\"\""
   ]
  }
 ],
 "metadata": {
  "kernelspec": {
   "display_name": "Python 3 (ipykernel)",
   "language": "python",
   "name": "python3"
  },
  "language_info": {
   "codemirror_mode": {
    "name": "ipython",
    "version": 3
   },
   "file_extension": ".py",
   "mimetype": "text/x-python",
   "name": "python",
   "nbconvert_exporter": "python",
   "pygments_lexer": "ipython3",
   "version": "3.9.13"
  }
 },
 "nbformat": 4,
 "nbformat_minor": 5
}
